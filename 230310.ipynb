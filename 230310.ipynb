{
 "cells": [
  {
   "cell_type": "code",
   "execution_count": 1,
   "id": "e51bab43",
   "metadata": {},
   "outputs": [],
   "source": [
    "import cx_Oracle\n",
    "import pymysql\n",
    "import pandas as pd"
   ]
  },
  {
   "cell_type": "markdown",
   "id": "c24b6fd7",
   "metadata": {},
   "source": [
    "# 오라클"
   ]
  },
  {
   "cell_type": "code",
   "execution_count": 32,
   "id": "d8b6456c",
   "metadata": {},
   "outputs": [],
   "source": [
    "dsn = cx_Oracle.makedsn('localhost',1521,'xe')\n",
    "oracle_conn = cx_Oracle.connect(user = 'icia',password = '1234', dsn = dsn)\n",
    "sql_oracle = oracle_conn.cursor()"
   ]
  },
  {
   "cell_type": "code",
   "execution_count": 3,
   "id": "e61676fb",
   "metadata": {},
   "outputs": [],
   "source": [
    "query = 'create table test3(id number(1), name varchar(5), constraint test114_pk primary key(id))'"
   ]
  },
  {
   "cell_type": "code",
   "execution_count": null,
   "id": "374073c2",
   "metadata": {},
   "outputs": [],
   "source": [
    "sql_oracle.execute(query)"
   ]
  },
  {
   "cell_type": "code",
   "execution_count": 5,
   "id": "b4c8a15a",
   "metadata": {},
   "outputs": [],
   "source": [
    "query2 = 'select * from test3'"
   ]
  },
  {
   "cell_type": "code",
   "execution_count": 6,
   "id": "63d72d3f",
   "metadata": {},
   "outputs": [
    {
     "name": "stderr",
     "output_type": "stream",
     "text": [
      "C:\\Users\\user\\anaconda3\\lib\\site-packages\\pandas\\io\\sql.py:762: UserWarning: pandas only support SQLAlchemy connectable(engine/connection) ordatabase string URI or sqlite3 DBAPI2 connectionother DBAPI2 objects are not tested, please consider using SQLAlchemy\n",
      "  warnings.warn(\n"
     ]
    },
    {
     "data": {
      "text/html": [
       "<div>\n",
       "<style scoped>\n",
       "    .dataframe tbody tr th:only-of-type {\n",
       "        vertical-align: middle;\n",
       "    }\n",
       "\n",
       "    .dataframe tbody tr th {\n",
       "        vertical-align: top;\n",
       "    }\n",
       "\n",
       "    .dataframe thead th {\n",
       "        text-align: right;\n",
       "    }\n",
       "</style>\n",
       "<table border=\"1\" class=\"dataframe\">\n",
       "  <thead>\n",
       "    <tr style=\"text-align: right;\">\n",
       "      <th></th>\n",
       "      <th>ID</th>\n",
       "      <th>NAME</th>\n",
       "    </tr>\n",
       "  </thead>\n",
       "  <tbody>\n",
       "    <tr>\n",
       "      <th>0</th>\n",
       "      <td>3</td>\n",
       "      <td>test3</td>\n",
       "    </tr>\n",
       "  </tbody>\n",
       "</table>\n",
       "</div>"
      ],
      "text/plain": [
       "   ID   NAME\n",
       "0   3  test3"
      ]
     },
     "execution_count": 6,
     "metadata": {},
     "output_type": "execute_result"
    }
   ],
   "source": [
    "pd.read_sql(sql = query2, con = oracle_conn)"
   ]
  },
  {
   "cell_type": "code",
   "execution_count": 10,
   "id": "e7bd3c42",
   "metadata": {},
   "outputs": [],
   "source": [
    "query3 = \"insert into test3(id, name) values(3, 'test3')\""
   ]
  },
  {
   "cell_type": "code",
   "execution_count": 11,
   "id": "69f9915f",
   "metadata": {},
   "outputs": [],
   "source": [
    "sql_oracle.execute(query3)"
   ]
  },
  {
   "cell_type": "code",
   "execution_count": 7,
   "id": "a7ce0a2c",
   "metadata": {},
   "outputs": [],
   "source": [
    "oracle_conn.commit()\n",
    "sql_oracle.close()\n",
    "oracle_conn.close()"
   ]
  },
  {
   "cell_type": "markdown",
   "id": "8476e5ca",
   "metadata": {},
   "source": [
    "# mysql"
   ]
  },
  {
   "cell_type": "code",
   "execution_count": 33,
   "id": "00de31fa",
   "metadata": {},
   "outputs": [],
   "source": [
    "conn = pymysql.connect(host = 'localhost', user = 'root', password = '1234', db = 'lol', charset = 'utf8')\n",
    "sql_mysql = conn.cursor()"
   ]
  },
  {
   "cell_type": "code",
   "execution_count": 11,
   "id": "dce9d1b9",
   "metadata": {},
   "outputs": [],
   "source": [
    "query2 = 'create table test_mysql2(id smallint, name varchar(5), primary key(id))'"
   ]
  },
  {
   "cell_type": "code",
   "execution_count": 12,
   "id": "22bd99df",
   "metadata": {},
   "outputs": [
    {
     "data": {
      "text/plain": [
       "0"
      ]
     },
     "execution_count": 12,
     "metadata": {},
     "output_type": "execute_result"
    }
   ],
   "source": [
    "sql_mysql.execute(query2)"
   ]
  },
  {
   "cell_type": "code",
   "execution_count": 13,
   "id": "ce1be299",
   "metadata": {},
   "outputs": [],
   "source": [
    "query3 = 'insert into test_mysql2(id, name) values(3, \"test3\")'"
   ]
  },
  {
   "cell_type": "code",
   "execution_count": 14,
   "id": "27fba0ca",
   "metadata": {},
   "outputs": [],
   "source": [
    "sql_mysql.execute(query3)\n",
    "result = sql_mysql.fetchall()\n",
    "conn.commit()"
   ]
  },
  {
   "cell_type": "code",
   "execution_count": 19,
   "id": "f83d2f93",
   "metadata": {},
   "outputs": [],
   "source": [
    "query4 = 'select * from test_mysql2'"
   ]
  },
  {
   "cell_type": "code",
   "execution_count": 20,
   "id": "3d3fd671",
   "metadata": {},
   "outputs": [
    {
     "name": "stdout",
     "output_type": "stream",
     "text": [
      "((3, 'test4'),)\n"
     ]
    }
   ],
   "source": [
    "sql_mysql.execute(query4)\n",
    "result = sql_mysql.fetchall()\n",
    "#conn.close()\n",
    "print(result)"
   ]
  },
  {
   "cell_type": "code",
   "execution_count": 17,
   "id": "4f16be36",
   "metadata": {},
   "outputs": [],
   "source": [
    "query = 'insert into test_mysql2(id, name) values(3, \"test3\") on duplicate key update id = 3, name = \"test4\"'"
   ]
  },
  {
   "cell_type": "code",
   "execution_count": 18,
   "id": "ae670ffb",
   "metadata": {},
   "outputs": [],
   "source": [
    "sql_mysql.execute(query)\n",
    "result = sql_mysql.fetchall()\n",
    "conn.commit()"
   ]
  },
  {
   "cell_type": "code",
   "execution_count": 2,
   "id": "05c6146c",
   "metadata": {},
   "outputs": [],
   "source": [
    "import my_uts as mu"
   ]
  },
  {
   "cell_type": "code",
   "execution_count": 2,
   "id": "0f840d16",
   "metadata": {},
   "outputs": [
    {
     "name": "stdout",
     "output_type": "stream",
     "text": [
      "oracle open\n"
     ]
    }
   ],
   "source": [
    "mu.db_open()"
   ]
  },
  {
   "cell_type": "code",
   "execution_count": 3,
   "id": "9c32d557",
   "metadata": {},
   "outputs": [],
   "source": [
    "query = 'select * from test3'"
   ]
  },
  {
   "cell_type": "code",
   "execution_count": 4,
   "id": "27a9cf3d",
   "metadata": {},
   "outputs": [
    {
     "name": "stderr",
     "output_type": "stream",
     "text": [
      "C:\\Users\\user\\anaconda3\\lib\\site-packages\\pandas\\io\\sql.py:762: UserWarning: pandas only support SQLAlchemy connectable(engine/connection) ordatabase string URI or sqlite3 DBAPI2 connectionother DBAPI2 objects are not tested, please consider using SQLAlchemy\n",
      "  warnings.warn(\n"
     ]
    },
    {
     "data": {
      "text/html": [
       "<div>\n",
       "<style scoped>\n",
       "    .dataframe tbody tr th:only-of-type {\n",
       "        vertical-align: middle;\n",
       "    }\n",
       "\n",
       "    .dataframe tbody tr th {\n",
       "        vertical-align: top;\n",
       "    }\n",
       "\n",
       "    .dataframe thead th {\n",
       "        text-align: right;\n",
       "    }\n",
       "</style>\n",
       "<table border=\"1\" class=\"dataframe\">\n",
       "  <thead>\n",
       "    <tr style=\"text-align: right;\">\n",
       "      <th></th>\n",
       "      <th>ID</th>\n",
       "      <th>NAME</th>\n",
       "    </tr>\n",
       "  </thead>\n",
       "  <tbody>\n",
       "    <tr>\n",
       "      <th>0</th>\n",
       "      <td>3</td>\n",
       "      <td>test3</td>\n",
       "    </tr>\n",
       "    <tr>\n",
       "      <th>1</th>\n",
       "      <td>4</td>\n",
       "      <td>test4</td>\n",
       "    </tr>\n",
       "  </tbody>\n",
       "</table>\n",
       "</div>"
      ],
      "text/plain": [
       "   ID   NAME\n",
       "0   3  test3\n",
       "1   4  test4"
      ]
     },
     "execution_count": 4,
     "metadata": {},
     "output_type": "execute_result"
    }
   ],
   "source": [
    "mu.oracle_execute(query)"
   ]
  },
  {
   "cell_type": "code",
   "execution_count": 5,
   "id": "9bc513f4",
   "metadata": {},
   "outputs": [],
   "source": [
    "query2 = \"insert into test3(id, name) values(4, 'test4')\""
   ]
  },
  {
   "cell_type": "code",
   "execution_count": 6,
   "id": "de8fafce",
   "metadata": {},
   "outputs": [
    {
     "name": "stdout",
     "output_type": "stream",
     "text": [
      "ORA-00001: unique constraint (ICIA.TEST114_PK) violated\n"
     ]
    }
   ],
   "source": [
    "mu.oracle_execute(query2)"
   ]
  },
  {
   "cell_type": "code",
   "execution_count": 7,
   "id": "f158036a",
   "metadata": {},
   "outputs": [
    {
     "data": {
      "text/plain": [
       "'oracle close'"
      ]
     },
     "execution_count": 7,
     "metadata": {},
     "output_type": "execute_result"
    }
   ],
   "source": [
    "mu.oracle_close()"
   ]
  },
  {
   "cell_type": "code",
   "execution_count": 7,
   "id": "164f9bfb",
   "metadata": {},
   "outputs": [],
   "source": [
    "conn = mu.connect_mysql('lol')"
   ]
  },
  {
   "cell_type": "code",
   "execution_count": 8,
   "id": "17c515e1",
   "metadata": {},
   "outputs": [
    {
     "data": {
      "text/plain": [
       "((3, 'test3'),)"
      ]
     },
     "execution_count": 8,
     "metadata": {},
     "output_type": "execute_result"
    }
   ],
   "source": [
    "mu.mysql_execute('select * from test_mysql2', conn)"
   ]
  },
  {
   "cell_type": "code",
   "execution_count": 9,
   "id": "336a15cf",
   "metadata": {},
   "outputs": [
    {
     "data": {
      "text/plain": [
       "[{'id': 3, 'name': 'test3'}]"
      ]
     },
     "execution_count": 9,
     "metadata": {},
     "output_type": "execute_result"
    }
   ],
   "source": [
    "mu.mysql_execute_dict('select * from test_mysql2', conn)"
   ]
  },
  {
   "cell_type": "code",
   "execution_count": 6,
   "id": "5e08a58a",
   "metadata": {},
   "outputs": [],
   "source": [
    "mu.mysql_execute('insert into test_mysql2(id, name) values(3, \"test3\") on duplicate key update id = 3, name = \"test3\"', conn)\n",
    "conn.commit()\n",
    "conn.close()"
   ]
  },
  {
   "cell_type": "code",
   "execution_count": 3,
   "id": "df564851",
   "metadata": {},
   "outputs": [],
   "source": [
    "url = 'http://openapi.seoul.go.kr:8088/(인증키)/xml/tbLnOpendataRentV/1/5/'"
   ]
  },
  {
   "cell_type": "code",
   "execution_count": 4,
   "id": "43f9b803",
   "metadata": {},
   "outputs": [],
   "source": [
    "df = mu.df_creater(url)"
   ]
  },
  {
   "cell_type": "code",
   "execution_count": 5,
   "id": "abbbe0b5",
   "metadata": {},
   "outputs": [],
   "source": [
    "sel_c = ['SGG_NM','BJDONG_NM','LAND_GBN_NM','FLR_NO','CNTRCT_DE','RENT_GBN','RENT_AREA','RENT_GTN','RENT_FEE','BLDG_NM','BUILD_YEAR']"
   ]
  },
  {
   "cell_type": "code",
   "execution_count": 6,
   "id": "3bfa8ff7",
   "metadata": {},
   "outputs": [],
   "source": [
    "df2 = df[sel_c].copy()"
   ]
  },
  {
   "cell_type": "code",
   "execution_count": 7,
   "id": "dafd6fbf",
   "metadata": {},
   "outputs": [],
   "source": [
    "df2.columns=['자치구명','법정동명','지번구분명','층수','계약일','전월세','면적','보증금','임대료','건물명','건축년도']"
   ]
  },
  {
   "cell_type": "code",
   "execution_count": 8,
   "id": "d09b59ac",
   "metadata": {},
   "outputs": [],
   "source": [
    "df2 = df2.astype({'층수':'float','계약일':'int','면적':'float','보증금':'int','임대료':'int'})"
   ]
  },
  {
   "cell_type": "markdown",
   "id": "16f67818",
   "metadata": {},
   "source": [
    "# Oracle create"
   ]
  },
  {
   "cell_type": "code",
   "execution_count": 9,
   "id": "cb7a63bc",
   "metadata": {},
   "outputs": [],
   "source": [
    "query = \"\"\"\n",
    "CREATE TABLE housePrice(자치구명 varchar(50), 법정동명 varchar(50), 지번구분명 varchar(50),\n",
    "층수 float(20),계약일 number(20), 전월세 varchar(20), 면적 float(20), 보증금 number(20), 임대료 number(20),\n",
    "건물명 varchar(100), 건축년도 varchar(20))\n",
    "\"\"\"\n",
    "\n",
    "#oracle"
   ]
  },
  {
   "cell_type": "code",
   "execution_count": 10,
   "id": "299c4462",
   "metadata": {},
   "outputs": [
    {
     "name": "stdout",
     "output_type": "stream",
     "text": [
      "oracle open\n",
      "ORA-00955: name is already used by an existing object\n"
     ]
    }
   ],
   "source": [
    "mu.db_open()\n",
    "mu.oracle_execute(query)"
   ]
  },
  {
   "cell_type": "markdown",
   "id": "874631a7",
   "metadata": {},
   "source": [
    "# Oracle select"
   ]
  },
  {
   "cell_type": "code",
   "execution_count": 11,
   "id": "25ddb55b",
   "metadata": {},
   "outputs": [],
   "source": [
    "query2 = 'select * from housePrice'"
   ]
  },
  {
   "cell_type": "code",
   "execution_count": 12,
   "id": "4ab280ca",
   "metadata": {},
   "outputs": [
    {
     "name": "stderr",
     "output_type": "stream",
     "text": [
      "C:\\Users\\user\\anaconda3\\lib\\site-packages\\pandas\\io\\sql.py:762: UserWarning: pandas only support SQLAlchemy connectable(engine/connection) ordatabase string URI or sqlite3 DBAPI2 connectionother DBAPI2 objects are not tested, please consider using SQLAlchemy\n",
      "  warnings.warn(\n"
     ]
    },
    {
     "data": {
      "text/html": [
       "<div>\n",
       "<style scoped>\n",
       "    .dataframe tbody tr th:only-of-type {\n",
       "        vertical-align: middle;\n",
       "    }\n",
       "\n",
       "    .dataframe tbody tr th {\n",
       "        vertical-align: top;\n",
       "    }\n",
       "\n",
       "    .dataframe thead th {\n",
       "        text-align: right;\n",
       "    }\n",
       "</style>\n",
       "<table border=\"1\" class=\"dataframe\">\n",
       "  <thead>\n",
       "    <tr style=\"text-align: right;\">\n",
       "      <th></th>\n",
       "      <th>자치구명</th>\n",
       "      <th>법정동명</th>\n",
       "      <th>지번구분명</th>\n",
       "      <th>층수</th>\n",
       "      <th>계약일</th>\n",
       "      <th>전월세</th>\n",
       "      <th>면적</th>\n",
       "      <th>보증금</th>\n",
       "      <th>임대료</th>\n",
       "      <th>건물명</th>\n",
       "      <th>건축년도</th>\n",
       "    </tr>\n",
       "  </thead>\n",
       "  <tbody>\n",
       "    <tr>\n",
       "      <th>0</th>\n",
       "      <td>영등포구</td>\n",
       "      <td>도림동</td>\n",
       "      <td>None</td>\n",
       "      <td>0.0</td>\n",
       "      <td>20230308</td>\n",
       "      <td>전세</td>\n",
       "      <td>41.23</td>\n",
       "      <td>10000</td>\n",
       "      <td>0</td>\n",
       "      <td>None</td>\n",
       "      <td>1990</td>\n",
       "    </tr>\n",
       "  </tbody>\n",
       "</table>\n",
       "</div>"
      ],
      "text/plain": [
       "   자치구명 법정동명 지번구분명   층수       계약일 전월세     면적    보증금  임대료   건물명  건축년도\n",
       "0  영등포구  도림동  None  0.0  20230308  전세  41.23  10000    0  None  1990"
      ]
     },
     "execution_count": 12,
     "metadata": {},
     "output_type": "execute_result"
    }
   ],
   "source": [
    "mu.oracle_execute(query2)"
   ]
  },
  {
   "cell_type": "markdown",
   "id": "41591dab",
   "metadata": {},
   "source": [
    "# Mysql create"
   ]
  },
  {
   "cell_type": "code",
   "execution_count": 13,
   "id": "c0e600fa",
   "metadata": {},
   "outputs": [],
   "source": [
    "query3 = \"\"\"CREATE TABLE housePrice(자치구명 varchar(50), 법정동명 varchar(50), 지번구분명 varchar(50),\n",
    "층수 float(20),계약일 int, 전월세 varchar(20), 면적 float(20), 보증금 int, 임대료 int,\n",
    "건물명 varchar(100), 건축년도 varchar(20))\"\"\"\n",
    "\n",
    "#mysql"
   ]
  },
  {
   "cell_type": "code",
   "execution_count": 30,
   "id": "7b09ea5d",
   "metadata": {},
   "outputs": [
    {
     "data": {
      "text/plain": [
       "()"
      ]
     },
     "execution_count": 30,
     "metadata": {},
     "output_type": "execute_result"
    }
   ],
   "source": [
    "conn = mu.connect_mysql('lol')\n",
    "mu.mysql_execute(query3, conn)"
   ]
  },
  {
   "cell_type": "markdown",
   "id": "79592341",
   "metadata": {},
   "source": [
    "# Insert"
   ]
  },
  {
   "cell_type": "code",
   "execution_count": 35,
   "id": "20cef28c",
   "metadata": {},
   "outputs": [],
   "source": [
    "query4 = (\n",
    "f'insert into housePrice(자치구명, 법정동명, 지번구분명, 층수, 계약일, 전월세, 면적, 보증금, 임대료, 건물명, 건축년도)'\n",
    "f'values({repr(df2.자치구명.iloc[0])},{repr(df2.법정동명.iloc[0])},{repr(df2.지번구분명.iloc[0])},'\n",
    "f'{df2.층수.iloc[0]},{df2.계약일.iloc[0]},{repr(df2.전월세.iloc[0])},{df2.면적.iloc[0]},{df2.보증금.iloc[0]},'\n",
    "f'{df2.임대료.iloc[0]},{repr(df2.건물명.iloc[0])},{repr(df2.건축년도.iloc[0])})'\n",
    ")"
   ]
  },
  {
   "cell_type": "markdown",
   "id": "4a8c226d",
   "metadata": {},
   "source": [
    "# Oracle Insert"
   ]
  },
  {
   "cell_type": "code",
   "execution_count": 36,
   "id": "0dd9b090",
   "metadata": {},
   "outputs": [
    {
     "name": "stdout",
     "output_type": "stream",
     "text": [
      "oracle open\n"
     ]
    },
    {
     "data": {
      "text/plain": [
       "'oracle close'"
      ]
     },
     "execution_count": 36,
     "metadata": {},
     "output_type": "execute_result"
    }
   ],
   "source": [
    "mu.db_open()\n",
    "mu.oracle_execute(query4)\n",
    "mu.oracle_close()"
   ]
  },
  {
   "cell_type": "code",
   "execution_count": 41,
   "id": "97da39f3",
   "metadata": {},
   "outputs": [
    {
     "name": "stdout",
     "output_type": "stream",
     "text": [
      "oracle open\n"
     ]
    },
    {
     "name": "stderr",
     "output_type": "stream",
     "text": [
      "C:\\Users\\user\\anaconda3\\lib\\site-packages\\pandas\\io\\sql.py:762: UserWarning: pandas only support SQLAlchemy connectable(engine/connection) ordatabase string URI or sqlite3 DBAPI2 connectionother DBAPI2 objects are not tested, please consider using SQLAlchemy\n",
      "  warnings.warn(\n"
     ]
    },
    {
     "data": {
      "text/html": [
       "<div>\n",
       "<style scoped>\n",
       "    .dataframe tbody tr th:only-of-type {\n",
       "        vertical-align: middle;\n",
       "    }\n",
       "\n",
       "    .dataframe tbody tr th {\n",
       "        vertical-align: top;\n",
       "    }\n",
       "\n",
       "    .dataframe thead th {\n",
       "        text-align: right;\n",
       "    }\n",
       "</style>\n",
       "<table border=\"1\" class=\"dataframe\">\n",
       "  <thead>\n",
       "    <tr style=\"text-align: right;\">\n",
       "      <th></th>\n",
       "      <th>자치구명</th>\n",
       "      <th>법정동명</th>\n",
       "      <th>지번구분명</th>\n",
       "      <th>층수</th>\n",
       "      <th>계약일</th>\n",
       "      <th>전월세</th>\n",
       "      <th>면적</th>\n",
       "      <th>보증금</th>\n",
       "      <th>임대료</th>\n",
       "      <th>건물명</th>\n",
       "      <th>건축년도</th>\n",
       "    </tr>\n",
       "  </thead>\n",
       "  <tbody>\n",
       "    <tr>\n",
       "      <th>0</th>\n",
       "      <td>영등포구</td>\n",
       "      <td>도림동</td>\n",
       "      <td>None</td>\n",
       "      <td>0.0</td>\n",
       "      <td>20230308</td>\n",
       "      <td>전세</td>\n",
       "      <td>41.23</td>\n",
       "      <td>10000</td>\n",
       "      <td>0</td>\n",
       "      <td>None</td>\n",
       "      <td>1990</td>\n",
       "    </tr>\n",
       "  </tbody>\n",
       "</table>\n",
       "</div>"
      ],
      "text/plain": [
       "   자치구명 법정동명 지번구분명   층수       계약일 전월세     면적    보증금  임대료   건물명  건축년도\n",
       "0  영등포구  도림동  None  0.0  20230308  전세  41.23  10000    0  None  1990"
      ]
     },
     "execution_count": 41,
     "metadata": {},
     "output_type": "execute_result"
    }
   ],
   "source": [
    "mu.db_open()\n",
    "mu.oracle_execute(query2)"
   ]
  },
  {
   "cell_type": "markdown",
   "id": "8d563a3d",
   "metadata": {},
   "source": [
    "# Mysql Insert"
   ]
  },
  {
   "cell_type": "code",
   "execution_count": 39,
   "id": "e8c4e332",
   "metadata": {},
   "outputs": [],
   "source": [
    "conn=mu.connect_mysql('lol')\n",
    "mu.mysql_execute(query4, conn)\n",
    "conn.commit()\n",
    "conn.close()"
   ]
  },
  {
   "cell_type": "code",
   "execution_count": 40,
   "id": "d05a0f3f",
   "metadata": {},
   "outputs": [
    {
     "data": {
      "text/plain": [
       "(('영등포구', '도림동', '', 0.0, 20230308, '전세', 41.23, 10000, 0, '', '1990'),)"
      ]
     },
     "execution_count": 40,
     "metadata": {},
     "output_type": "execute_result"
    }
   ],
   "source": [
    "conn = mu.connect_mysql('lol')\n",
    "query5 = 'select * from housePrice'\n",
    "mu.mysql_execute(query5, conn)"
   ]
  },
  {
   "cell_type": "markdown",
   "id": "131ee3cc",
   "metadata": {},
   "source": [
    "# insert문을 함수로 정의"
   ]
  },
  {
   "cell_type": "markdown",
   "id": "38b1b047",
   "metadata": {},
   "source": [
    "# conda install tqdm"
   ]
  },
  {
   "cell_type": "code",
   "execution_count": 43,
   "id": "6a5647e2",
   "metadata": {},
   "outputs": [],
   "source": [
    "from tqdm import tqdm"
   ]
  },
  {
   "cell_type": "code",
   "execution_count": 44,
   "id": "7d6a00ce",
   "metadata": {},
   "outputs": [
    {
     "name": "stderr",
     "output_type": "stream",
     "text": [
      "100%|████████████████████████████████████████████████████████████████████████████| 1000/1000 [00:00<00:00, 2562.24it/s]\n"
     ]
    }
   ],
   "source": [
    "conn = mu.connect_mysql('lol')\n",
    "for i in tqdm(range(len(df2))):\n",
    "    query4 = (\n",
    "    f'insert into housePrice(자치구명, 법정동명, 지번구분명, 층수, 계약일, 전월세, 면적, 보증금, 임대료, 건물명, 건축년도)'\n",
    "    f'values({repr(df2.자치구명.iloc[i])},{repr(df2.법정동명.iloc[i])},{repr(df2.지번구분명.iloc[i])},'\n",
    "    f'{df2.층수.iloc[i]},{df2.계약일.iloc[i]},{repr(df2.전월세.iloc[i])},{df2.면적.iloc[i]},{df2.보증금.iloc[i]},'\n",
    "    f'{df2.임대료.iloc[i]},{repr(df2.건물명.iloc[i])},{repr(df2.건축년도.iloc[i])})'\n",
    "    )\n",
    "    mu.mysql_execute(query4,conn)\n",
    "conn.commit()\n",
    "conn.close()\n",
    "#mysql"
   ]
  },
  {
   "cell_type": "code",
   "execution_count": 42,
   "id": "8cc427ab",
   "metadata": {},
   "outputs": [
    {
     "name": "stdout",
     "output_type": "stream",
     "text": [
      "oracle open\n"
     ]
    },
    {
     "data": {
      "text/plain": [
       "'oracle close'"
      ]
     },
     "execution_count": 42,
     "metadata": {},
     "output_type": "execute_result"
    }
   ],
   "source": [
    "mu.db_open()\n",
    "for i in range(len(df2)):\n",
    "    query4 = (\n",
    "    f'insert into housePrice(자치구명, 법정동명, 지번구분명, 층수, 계약일, 전월세, 면적, 보증금, 임대료, 건물명, 건축년도)'\n",
    "    f'values({repr(df2.자치구명.iloc[i])},{repr(df2.법정동명.iloc[i])},{repr(df2.지번구분명.iloc[i])},'\n",
    "    f'{df2.층수.iloc[i]},{df2.계약일.iloc[i]},{repr(df2.전월세.iloc[i])},{df2.면적.iloc[i]},{df2.보증금.iloc[i]},'\n",
    "    f'{df2.임대료.iloc[i]},{repr(df2.건물명.iloc[i])},{repr(df2.건축년도.iloc[i])})'\n",
    "    )\n",
    "    mu.oracle_execute(query4)\n",
    "mu.oracle_close()\n",
    "\n",
    "#oracle"
   ]
  },
  {
   "cell_type": "code",
   "execution_count": 45,
   "id": "36afc488",
   "metadata": {},
   "outputs": [],
   "source": [
    "conn = mu.connect_mysql('lol')\n",
    "df3 = pd.DataFrame(mu.mysql_execute_dict(query5, conn))"
   ]
  },
  {
   "cell_type": "code",
   "execution_count": 46,
   "id": "90c89686",
   "metadata": {},
   "outputs": [
    {
     "data": {
      "text/html": [
       "<div>\n",
       "<style scoped>\n",
       "    .dataframe tbody tr th:only-of-type {\n",
       "        vertical-align: middle;\n",
       "    }\n",
       "\n",
       "    .dataframe tbody tr th {\n",
       "        vertical-align: top;\n",
       "    }\n",
       "\n",
       "    .dataframe thead th {\n",
       "        text-align: right;\n",
       "    }\n",
       "</style>\n",
       "<table border=\"1\" class=\"dataframe\">\n",
       "  <thead>\n",
       "    <tr style=\"text-align: right;\">\n",
       "      <th></th>\n",
       "      <th>자치구명</th>\n",
       "      <th>법정동명</th>\n",
       "      <th>지번구분명</th>\n",
       "      <th>층수</th>\n",
       "      <th>계약일</th>\n",
       "      <th>전월세</th>\n",
       "      <th>면적</th>\n",
       "      <th>보증금</th>\n",
       "      <th>임대료</th>\n",
       "      <th>건물명</th>\n",
       "      <th>건축년도</th>\n",
       "    </tr>\n",
       "  </thead>\n",
       "  <tbody>\n",
       "    <tr>\n",
       "      <th>0</th>\n",
       "      <td>영등포구</td>\n",
       "      <td>도림동</td>\n",
       "      <td></td>\n",
       "      <td>0.0</td>\n",
       "      <td>20230308</td>\n",
       "      <td>전세</td>\n",
       "      <td>41.23</td>\n",
       "      <td>10000</td>\n",
       "      <td>0</td>\n",
       "      <td></td>\n",
       "      <td>1990</td>\n",
       "    </tr>\n",
       "    <tr>\n",
       "      <th>1</th>\n",
       "      <td>영등포구</td>\n",
       "      <td>도림동</td>\n",
       "      <td></td>\n",
       "      <td>0.0</td>\n",
       "      <td>20230308</td>\n",
       "      <td>전세</td>\n",
       "      <td>41.23</td>\n",
       "      <td>10000</td>\n",
       "      <td>0</td>\n",
       "      <td></td>\n",
       "      <td>1990</td>\n",
       "    </tr>\n",
       "    <tr>\n",
       "      <th>2</th>\n",
       "      <td>광진구</td>\n",
       "      <td>자양동</td>\n",
       "      <td></td>\n",
       "      <td>0.0</td>\n",
       "      <td>20230308</td>\n",
       "      <td>월세</td>\n",
       "      <td>41.60</td>\n",
       "      <td>500</td>\n",
       "      <td>40</td>\n",
       "      <td></td>\n",
       "      <td>1983</td>\n",
       "    </tr>\n",
       "    <tr>\n",
       "      <th>3</th>\n",
       "      <td>강동구</td>\n",
       "      <td>천호동</td>\n",
       "      <td></td>\n",
       "      <td>0.0</td>\n",
       "      <td>20230308</td>\n",
       "      <td>월세</td>\n",
       "      <td>40.00</td>\n",
       "      <td>1000</td>\n",
       "      <td>60</td>\n",
       "      <td></td>\n",
       "      <td>1996</td>\n",
       "    </tr>\n",
       "    <tr>\n",
       "      <th>4</th>\n",
       "      <td>동작구</td>\n",
       "      <td>사당동</td>\n",
       "      <td></td>\n",
       "      <td>0.0</td>\n",
       "      <td>20230308</td>\n",
       "      <td>전세</td>\n",
       "      <td>36.22</td>\n",
       "      <td>13500</td>\n",
       "      <td>0</td>\n",
       "      <td></td>\n",
       "      <td>1990</td>\n",
       "    </tr>\n",
       "    <tr>\n",
       "      <th>...</th>\n",
       "      <td>...</td>\n",
       "      <td>...</td>\n",
       "      <td>...</td>\n",
       "      <td>...</td>\n",
       "      <td>...</td>\n",
       "      <td>...</td>\n",
       "      <td>...</td>\n",
       "      <td>...</td>\n",
       "      <td>...</td>\n",
       "      <td>...</td>\n",
       "      <td>...</td>\n",
       "    </tr>\n",
       "    <tr>\n",
       "      <th>996</th>\n",
       "      <td>강남구</td>\n",
       "      <td>세곡동</td>\n",
       "      <td>대지</td>\n",
       "      <td>6.0</td>\n",
       "      <td>20230307</td>\n",
       "      <td>전세</td>\n",
       "      <td>84.98</td>\n",
       "      <td>43225</td>\n",
       "      <td>0</td>\n",
       "      <td>세곡리엔파크(4단지)</td>\n",
       "      <td>2011</td>\n",
       "    </tr>\n",
       "    <tr>\n",
       "      <th>997</th>\n",
       "      <td>동작구</td>\n",
       "      <td>상도동</td>\n",
       "      <td>대지</td>\n",
       "      <td>9.0</td>\n",
       "      <td>20230307</td>\n",
       "      <td>월세</td>\n",
       "      <td>9.00</td>\n",
       "      <td>3000</td>\n",
       "      <td>43</td>\n",
       "      <td>그린시티</td>\n",
       "      <td>2018</td>\n",
       "    </tr>\n",
       "    <tr>\n",
       "      <th>998</th>\n",
       "      <td>구로구</td>\n",
       "      <td>구로동</td>\n",
       "      <td>대지</td>\n",
       "      <td>5.0</td>\n",
       "      <td>20230307</td>\n",
       "      <td>전세</td>\n",
       "      <td>21.96</td>\n",
       "      <td>8000</td>\n",
       "      <td>0</td>\n",
       "      <td>조성빌라</td>\n",
       "      <td>2000</td>\n",
       "    </tr>\n",
       "    <tr>\n",
       "      <th>999</th>\n",
       "      <td>은평구</td>\n",
       "      <td>갈현동</td>\n",
       "      <td>대지</td>\n",
       "      <td>1.0</td>\n",
       "      <td>20230307</td>\n",
       "      <td>전세</td>\n",
       "      <td>48.60</td>\n",
       "      <td>20000</td>\n",
       "      <td>0</td>\n",
       "      <td>가원</td>\n",
       "      <td>2001</td>\n",
       "    </tr>\n",
       "    <tr>\n",
       "      <th>1000</th>\n",
       "      <td>구로구</td>\n",
       "      <td>오류동</td>\n",
       "      <td>대지</td>\n",
       "      <td>11.0</td>\n",
       "      <td>20230307</td>\n",
       "      <td>전세</td>\n",
       "      <td>84.99</td>\n",
       "      <td>38000</td>\n",
       "      <td>0</td>\n",
       "      <td>우림필유</td>\n",
       "      <td>2005</td>\n",
       "    </tr>\n",
       "  </tbody>\n",
       "</table>\n",
       "<p>1001 rows × 11 columns</p>\n",
       "</div>"
      ],
      "text/plain": [
       "      자치구명 법정동명 지번구분명    층수       계약일 전월세     면적    보증금  임대료          건물명  \\\n",
       "0     영등포구  도림동         0.0  20230308  전세  41.23  10000    0                \n",
       "1     영등포구  도림동         0.0  20230308  전세  41.23  10000    0                \n",
       "2      광진구  자양동         0.0  20230308  월세  41.60    500   40                \n",
       "3      강동구  천호동         0.0  20230308  월세  40.00   1000   60                \n",
       "4      동작구  사당동         0.0  20230308  전세  36.22  13500    0                \n",
       "...    ...  ...   ...   ...       ...  ..    ...    ...  ...          ...   \n",
       "996    강남구  세곡동    대지   6.0  20230307  전세  84.98  43225    0  세곡리엔파크(4단지)   \n",
       "997    동작구  상도동    대지   9.0  20230307  월세   9.00   3000   43         그린시티   \n",
       "998    구로구  구로동    대지   5.0  20230307  전세  21.96   8000    0         조성빌라   \n",
       "999    은평구  갈현동    대지   1.0  20230307  전세  48.60  20000    0           가원   \n",
       "1000   구로구  오류동    대지  11.0  20230307  전세  84.99  38000    0         우림필유   \n",
       "\n",
       "      건축년도  \n",
       "0     1990  \n",
       "1     1990  \n",
       "2     1983  \n",
       "3     1996  \n",
       "4     1990  \n",
       "...    ...  \n",
       "996   2011  \n",
       "997   2018  \n",
       "998   2000  \n",
       "999   2001  \n",
       "1000  2005  \n",
       "\n",
       "[1001 rows x 11 columns]"
      ]
     },
     "execution_count": 46,
     "metadata": {},
     "output_type": "execute_result"
    }
   ],
   "source": [
    "df3"
   ]
  },
  {
   "cell_type": "code",
   "execution_count": 48,
   "id": "7ce0f5de",
   "metadata": {},
   "outputs": [],
   "source": [
    "def df_insert(df):\n",
    "    mu.db_open()\n",
    "    for i in range(len(df)):\n",
    "        query4 = (\n",
    "        f'insert into housePrice(자치구명, 법정동명, 지번구분명, 층수, 계약일, 전월세, 면적, 보증금, 임대료, 건물명, 건축년도)'\n",
    "        f'values({repr(df.자치구명.iloc[i])},{repr(df.법정동명.iloc[i])},{repr(df.지번구분명.iloc[i])},'\n",
    "        f'{df.층수.iloc[i]},{df.계약일.iloc[i]},{repr(df.전월세.iloc[i])},{df.면적.iloc[i]},{df.보증금.iloc[i]},'\n",
    "        f'{df.임대료.iloc[i]},{repr(df.건물명.iloc[i])},{repr(df.건축년도.iloc[i])})'\n",
    "        )\n",
    "        mu.oracle_execute(query4)\n",
    "    table = pd.DataFrame(mu.oracle_execute(\"select * from f'df'\"))\n",
    "    mu.oracle_close()\n",
    "    return table"
   ]
  },
  {
   "cell_type": "markdown",
   "id": "4a2ff0d9",
   "metadata": {},
   "source": [
    "# 서울시 공공데이터포탈 - 서울시 코로나19 확진자 발생 동향\n",
    "\n",
    "\n",
    "# api를 통해서 함수 정의했던 것으로 데이터 불러오기\n",
    "\n",
    "\n",
    "# 컬럼명 - 서울시기준일, 서울시확진자, 서울시치료중, 서울시퇴원, 서울시사망, 전국확진, 전국사망\n",
    "\n",
    "# DB에 테이블 생성 후 INSERT\n",
    "\n",
    "# 테이블명 : Corona19CountStatus"
   ]
  },
  {
   "cell_type": "code",
   "execution_count": 49,
   "id": "ba5547ca",
   "metadata": {},
   "outputs": [],
   "source": [
    "table = mu.df_creater(\"http://openapi.seoul.go.kr:8088/(인증키)/xml/TbCorona19CountStatus/1/5/\")"
   ]
  },
  {
   "cell_type": "code",
   "execution_count": 51,
   "id": "5bef2329",
   "metadata": {},
   "outputs": [
    {
     "data": {
      "text/plain": [
       "Index(['S_DT', 'S_HJ', 'SN_HJ', 'S_CARE', 'S_RECOVER', 'SN_RECOVER', 'S_DEATH',\n",
       "       'SY_TOTAL', 'SY_KJ', 'SY_KH', 'T_DT', 'T_HJ', 'N_HJ', 'TY_CARE',\n",
       "       'RECOVER', 'DEATH', 'TY_TOTAL', 'TY_KJ', 'TY_KH', 'JGK_OVERSEAS_GS',\n",
       "       'JGK_OVERSEAS_GH', 'JGK_CONT_GS', 'JGK_CONT_GH', 'CHECKING',\n",
       "       'DAY_DEATH', 'ALL_DAY_DEATH'],\n",
       "      dtype='object')"
      ]
     },
     "execution_count": 51,
     "metadata": {},
     "output_type": "execute_result"
    }
   ],
   "source": [
    "table.columns"
   ]
  },
  {
   "cell_type": "code",
   "execution_count": 52,
   "id": "208be4a4",
   "metadata": {},
   "outputs": [],
   "source": [
    "sel = ['S_DT', 'S_HJ', 'S_CARE', 'S_RECOVER', 'S_DEATH', 'T_HJ', 'DEATH']"
   ]
  },
  {
   "cell_type": "code",
   "execution_count": 53,
   "id": "621c5169",
   "metadata": {},
   "outputs": [],
   "source": [
    "table2 = table[sel].copy()"
   ]
  },
  {
   "cell_type": "code",
   "execution_count": 54,
   "id": "5780d39f",
   "metadata": {},
   "outputs": [],
   "source": [
    "table2.columns = ['서울시기준일','서울시확진자','서울시치료중','서울시퇴원','서울시사망','전국확진','전국사망']"
   ]
  },
  {
   "cell_type": "code",
   "execution_count": 55,
   "id": "3314e800",
   "metadata": {},
   "outputs": [
    {
     "data": {
      "text/html": [
       "<div>\n",
       "<style scoped>\n",
       "    .dataframe tbody tr th:only-of-type {\n",
       "        vertical-align: middle;\n",
       "    }\n",
       "\n",
       "    .dataframe tbody tr th {\n",
       "        vertical-align: top;\n",
       "    }\n",
       "\n",
       "    .dataframe thead th {\n",
       "        text-align: right;\n",
       "    }\n",
       "</style>\n",
       "<table border=\"1\" class=\"dataframe\">\n",
       "  <thead>\n",
       "    <tr style=\"text-align: right;\">\n",
       "      <th></th>\n",
       "      <th>서울시기준일</th>\n",
       "      <th>서울시확진자</th>\n",
       "      <th>서울시치료중</th>\n",
       "      <th>서울시퇴원</th>\n",
       "      <th>서울시사망</th>\n",
       "      <th>전국확진</th>\n",
       "      <th>전국사망</th>\n",
       "    </tr>\n",
       "  </thead>\n",
       "  <tbody>\n",
       "    <tr>\n",
       "      <th>0</th>\n",
       "      <td>2023.03.10.00</td>\n",
       "      <td>5944743</td>\n",
       "      <td>0</td>\n",
       "      <td></td>\n",
       "      <td>6359</td>\n",
       "      <td>30615522</td>\n",
       "      <td>34093</td>\n",
       "    </tr>\n",
       "    <tr>\n",
       "      <th>1</th>\n",
       "      <td>2023.03.09.00</td>\n",
       "      <td>5942573</td>\n",
       "      <td>0</td>\n",
       "      <td></td>\n",
       "      <td>6358</td>\n",
       "      <td>30605187</td>\n",
       "      <td>34081</td>\n",
       "    </tr>\n",
       "    <tr>\n",
       "      <th>2</th>\n",
       "      <td>2023.03.08.00</td>\n",
       "      <td>5940442</td>\n",
       "      <td>0</td>\n",
       "      <td></td>\n",
       "      <td>6358</td>\n",
       "      <td>30594297</td>\n",
       "      <td>34061</td>\n",
       "    </tr>\n",
       "    <tr>\n",
       "      <th>3</th>\n",
       "      <td>2023.03.07.00</td>\n",
       "      <td>5937995</td>\n",
       "      <td>0</td>\n",
       "      <td></td>\n",
       "      <td>6358</td>\n",
       "      <td>30581499</td>\n",
       "      <td>34049</td>\n",
       "    </tr>\n",
       "    <tr>\n",
       "      <th>4</th>\n",
       "      <td>2023.03.06.00</td>\n",
       "      <td>5935247</td>\n",
       "      <td>0</td>\n",
       "      <td></td>\n",
       "      <td>6355</td>\n",
       "      <td>30569215</td>\n",
       "      <td>34034</td>\n",
       "    </tr>\n",
       "    <tr>\n",
       "      <th>...</th>\n",
       "      <td>...</td>\n",
       "      <td>...</td>\n",
       "      <td>...</td>\n",
       "      <td>...</td>\n",
       "      <td>...</td>\n",
       "      <td>...</td>\n",
       "      <td>...</td>\n",
       "    </tr>\n",
       "    <tr>\n",
       "      <th>995</th>\n",
       "      <td>2020.06.18.00</td>\n",
       "      <td>1170</td>\n",
       "      <td>446</td>\n",
       "      <td>718</td>\n",
       "      <td>6</td>\n",
       "      <td>12257</td>\n",
       "      <td>280</td>\n",
       "    </tr>\n",
       "    <tr>\n",
       "      <th>996</th>\n",
       "      <td>2020.06.17.00</td>\n",
       "      <td>1145</td>\n",
       "      <td>430</td>\n",
       "      <td>710</td>\n",
       "      <td>5</td>\n",
       "      <td>12198</td>\n",
       "      <td>279</td>\n",
       "    </tr>\n",
       "    <tr>\n",
       "      <th>997</th>\n",
       "      <td>2020.06.16.00</td>\n",
       "      <td>1132</td>\n",
       "      <td>425</td>\n",
       "      <td>703</td>\n",
       "      <td>4</td>\n",
       "      <td>12155</td>\n",
       "      <td>278</td>\n",
       "    </tr>\n",
       "    <tr>\n",
       "      <th>998</th>\n",
       "      <td>2020.06.15.00</td>\n",
       "      <td>1120</td>\n",
       "      <td>427</td>\n",
       "      <td>689</td>\n",
       "      <td>4</td>\n",
       "      <td>12121</td>\n",
       "      <td>277</td>\n",
       "    </tr>\n",
       "    <tr>\n",
       "      <th>999</th>\n",
       "      <td>2020.06.14.00</td>\n",
       "      <td>1113</td>\n",
       "      <td>420</td>\n",
       "      <td>689</td>\n",
       "      <td>4</td>\n",
       "      <td>12085</td>\n",
       "      <td>277</td>\n",
       "    </tr>\n",
       "  </tbody>\n",
       "</table>\n",
       "<p>1000 rows × 7 columns</p>\n",
       "</div>"
      ],
      "text/plain": [
       "            서울시기준일   서울시확진자 서울시치료중 서울시퇴원 서울시사망      전국확진   전국사망\n",
       "0    2023.03.10.00  5944743      0        6359  30615522  34093\n",
       "1    2023.03.09.00  5942573      0        6358  30605187  34081\n",
       "2    2023.03.08.00  5940442      0        6358  30594297  34061\n",
       "3    2023.03.07.00  5937995      0        6358  30581499  34049\n",
       "4    2023.03.06.00  5935247      0        6355  30569215  34034\n",
       "..             ...      ...    ...   ...   ...       ...    ...\n",
       "995  2020.06.18.00     1170    446   718     6     12257    280\n",
       "996  2020.06.17.00     1145    430   710     5     12198    279\n",
       "997  2020.06.16.00     1132    425   703     4     12155    278\n",
       "998  2020.06.15.00     1120    427   689     4     12121    277\n",
       "999  2020.06.14.00     1113    420   689     4     12085    277\n",
       "\n",
       "[1000 rows x 7 columns]"
      ]
     },
     "execution_count": 55,
     "metadata": {},
     "output_type": "execute_result"
    }
   ],
   "source": [
    "table2"
   ]
  },
  {
   "cell_type": "code",
   "execution_count": 61,
   "id": "f3f53f37",
   "metadata": {},
   "outputs": [],
   "source": [
    "q = \"\"\"CREATE TABLE Corona19CountStatus(서울시기준일 varchar(50), 서울시확진자 number(20), 서울시치료중 number(20),\n",
    "서울시퇴원 varchar(20), 서울시사망 number(20), 전국확진 number(20), 전국사망 number(20))\"\"\""
   ]
  },
  {
   "cell_type": "code",
   "execution_count": 62,
   "id": "8a7a3508",
   "metadata": {
    "scrolled": true
   },
   "outputs": [
    {
     "name": "stdout",
     "output_type": "stream",
     "text": [
      "oracle open\n"
     ]
    },
    {
     "data": {
      "text/plain": [
       "'oracle query success'"
      ]
     },
     "execution_count": 62,
     "metadata": {},
     "output_type": "execute_result"
    }
   ],
   "source": [
    "mu.db_open()\n",
    "mu.oracle_execute(q)"
   ]
  },
  {
   "cell_type": "code",
   "execution_count": 69,
   "id": "11574e81",
   "metadata": {},
   "outputs": [
    {
     "name": "stderr",
     "output_type": "stream",
     "text": [
      "C:\\Users\\user\\anaconda3\\lib\\site-packages\\pandas\\io\\sql.py:762: UserWarning: pandas only support SQLAlchemy connectable(engine/connection) ordatabase string URI or sqlite3 DBAPI2 connectionother DBAPI2 objects are not tested, please consider using SQLAlchemy\n",
      "  warnings.warn(\n"
     ]
    },
    {
     "data": {
      "text/html": [
       "<div>\n",
       "<style scoped>\n",
       "    .dataframe tbody tr th:only-of-type {\n",
       "        vertical-align: middle;\n",
       "    }\n",
       "\n",
       "    .dataframe tbody tr th {\n",
       "        vertical-align: top;\n",
       "    }\n",
       "\n",
       "    .dataframe thead th {\n",
       "        text-align: right;\n",
       "    }\n",
       "</style>\n",
       "<table border=\"1\" class=\"dataframe\">\n",
       "  <thead>\n",
       "    <tr style=\"text-align: right;\">\n",
       "      <th></th>\n",
       "      <th>서울시기준일</th>\n",
       "      <th>서울시확진자</th>\n",
       "      <th>서울시치료중</th>\n",
       "      <th>서울시퇴원</th>\n",
       "      <th>서울시사망</th>\n",
       "      <th>전국확진</th>\n",
       "      <th>전국사망</th>\n",
       "    </tr>\n",
       "  </thead>\n",
       "  <tbody>\n",
       "  </tbody>\n",
       "</table>\n",
       "</div>"
      ],
      "text/plain": [
       "Empty DataFrame\n",
       "Columns: [서울시기준일, 서울시확진자, 서울시치료중, 서울시퇴원, 서울시사망, 전국확진, 전국사망]\n",
       "Index: []"
      ]
     },
     "execution_count": 69,
     "metadata": {},
     "output_type": "execute_result"
    }
   ],
   "source": [
    "mu.oracle_execute(\"select * from Corona19CountStatus\")"
   ]
  },
  {
   "cell_type": "code",
   "execution_count": 78,
   "id": "5032e9f9",
   "metadata": {},
   "outputs": [],
   "source": [
    "def seoul_insert(df):\n",
    "    mu.db_open()\n",
    "    for i in range(len(df)):\n",
    "        q2 = (\n",
    "        f'insert into Corona19CountStatus(서울시기준일, 서울시확진자, 서울시치료중, 서울시퇴원, 서울시사망, 전국확진, 전국사망)'\n",
    "        f'values({repr(df.서울시기준일.iloc[i])},{df.서울시확진자.iloc[i]},{df.서울시치료중.iloc[i]},'\n",
    "        f'{repr(df.서울시퇴원.iloc[i])},{df.서울시사망.iloc[i]},{df.전국확진.iloc[i]},{df.전국사망.iloc[i]})'\n",
    "        )\n",
    "        mu.oracle_execute(q2)\n",
    "    mu.oracle_close()\n",
    "    return df"
   ]
  },
  {
   "cell_type": "code",
   "execution_count": 79,
   "id": "2bab0bac",
   "metadata": {},
   "outputs": [
    {
     "name": "stdout",
     "output_type": "stream",
     "text": [
      "oracle open\n"
     ]
    }
   ],
   "source": [
    "seoul_oracle = seoul_insert(table2)"
   ]
  },
  {
   "cell_type": "code",
   "execution_count": 80,
   "id": "4c1de1b5",
   "metadata": {},
   "outputs": [
    {
     "data": {
      "text/html": [
       "<div>\n",
       "<style scoped>\n",
       "    .dataframe tbody tr th:only-of-type {\n",
       "        vertical-align: middle;\n",
       "    }\n",
       "\n",
       "    .dataframe tbody tr th {\n",
       "        vertical-align: top;\n",
       "    }\n",
       "\n",
       "    .dataframe thead th {\n",
       "        text-align: right;\n",
       "    }\n",
       "</style>\n",
       "<table border=\"1\" class=\"dataframe\">\n",
       "  <thead>\n",
       "    <tr style=\"text-align: right;\">\n",
       "      <th></th>\n",
       "      <th>서울시기준일</th>\n",
       "      <th>서울시확진자</th>\n",
       "      <th>서울시치료중</th>\n",
       "      <th>서울시퇴원</th>\n",
       "      <th>서울시사망</th>\n",
       "      <th>전국확진</th>\n",
       "      <th>전국사망</th>\n",
       "    </tr>\n",
       "  </thead>\n",
       "  <tbody>\n",
       "    <tr>\n",
       "      <th>0</th>\n",
       "      <td>2023.03.10.00</td>\n",
       "      <td>5944743</td>\n",
       "      <td>0</td>\n",
       "      <td></td>\n",
       "      <td>6359</td>\n",
       "      <td>30615522</td>\n",
       "      <td>34093</td>\n",
       "    </tr>\n",
       "    <tr>\n",
       "      <th>1</th>\n",
       "      <td>2023.03.09.00</td>\n",
       "      <td>5942573</td>\n",
       "      <td>0</td>\n",
       "      <td></td>\n",
       "      <td>6358</td>\n",
       "      <td>30605187</td>\n",
       "      <td>34081</td>\n",
       "    </tr>\n",
       "    <tr>\n",
       "      <th>2</th>\n",
       "      <td>2023.03.08.00</td>\n",
       "      <td>5940442</td>\n",
       "      <td>0</td>\n",
       "      <td></td>\n",
       "      <td>6358</td>\n",
       "      <td>30594297</td>\n",
       "      <td>34061</td>\n",
       "    </tr>\n",
       "    <tr>\n",
       "      <th>3</th>\n",
       "      <td>2023.03.07.00</td>\n",
       "      <td>5937995</td>\n",
       "      <td>0</td>\n",
       "      <td></td>\n",
       "      <td>6358</td>\n",
       "      <td>30581499</td>\n",
       "      <td>34049</td>\n",
       "    </tr>\n",
       "    <tr>\n",
       "      <th>4</th>\n",
       "      <td>2023.03.06.00</td>\n",
       "      <td>5935247</td>\n",
       "      <td>0</td>\n",
       "      <td></td>\n",
       "      <td>6355</td>\n",
       "      <td>30569215</td>\n",
       "      <td>34034</td>\n",
       "    </tr>\n",
       "    <tr>\n",
       "      <th>...</th>\n",
       "      <td>...</td>\n",
       "      <td>...</td>\n",
       "      <td>...</td>\n",
       "      <td>...</td>\n",
       "      <td>...</td>\n",
       "      <td>...</td>\n",
       "      <td>...</td>\n",
       "    </tr>\n",
       "    <tr>\n",
       "      <th>995</th>\n",
       "      <td>2020.06.18.00</td>\n",
       "      <td>1170</td>\n",
       "      <td>446</td>\n",
       "      <td>718</td>\n",
       "      <td>6</td>\n",
       "      <td>12257</td>\n",
       "      <td>280</td>\n",
       "    </tr>\n",
       "    <tr>\n",
       "      <th>996</th>\n",
       "      <td>2020.06.17.00</td>\n",
       "      <td>1145</td>\n",
       "      <td>430</td>\n",
       "      <td>710</td>\n",
       "      <td>5</td>\n",
       "      <td>12198</td>\n",
       "      <td>279</td>\n",
       "    </tr>\n",
       "    <tr>\n",
       "      <th>997</th>\n",
       "      <td>2020.06.16.00</td>\n",
       "      <td>1132</td>\n",
       "      <td>425</td>\n",
       "      <td>703</td>\n",
       "      <td>4</td>\n",
       "      <td>12155</td>\n",
       "      <td>278</td>\n",
       "    </tr>\n",
       "    <tr>\n",
       "      <th>998</th>\n",
       "      <td>2020.06.15.00</td>\n",
       "      <td>1120</td>\n",
       "      <td>427</td>\n",
       "      <td>689</td>\n",
       "      <td>4</td>\n",
       "      <td>12121</td>\n",
       "      <td>277</td>\n",
       "    </tr>\n",
       "    <tr>\n",
       "      <th>999</th>\n",
       "      <td>2020.06.14.00</td>\n",
       "      <td>1113</td>\n",
       "      <td>420</td>\n",
       "      <td>689</td>\n",
       "      <td>4</td>\n",
       "      <td>12085</td>\n",
       "      <td>277</td>\n",
       "    </tr>\n",
       "  </tbody>\n",
       "</table>\n",
       "<p>1000 rows × 7 columns</p>\n",
       "</div>"
      ],
      "text/plain": [
       "            서울시기준일   서울시확진자 서울시치료중 서울시퇴원 서울시사망      전국확진   전국사망\n",
       "0    2023.03.10.00  5944743      0        6359  30615522  34093\n",
       "1    2023.03.09.00  5942573      0        6358  30605187  34081\n",
       "2    2023.03.08.00  5940442      0        6358  30594297  34061\n",
       "3    2023.03.07.00  5937995      0        6358  30581499  34049\n",
       "4    2023.03.06.00  5935247      0        6355  30569215  34034\n",
       "..             ...      ...    ...   ...   ...       ...    ...\n",
       "995  2020.06.18.00     1170    446   718     6     12257    280\n",
       "996  2020.06.17.00     1145    430   710     5     12198    279\n",
       "997  2020.06.16.00     1132    425   703     4     12155    278\n",
       "998  2020.06.15.00     1120    427   689     4     12121    277\n",
       "999  2020.06.14.00     1113    420   689     4     12085    277\n",
       "\n",
       "[1000 rows x 7 columns]"
      ]
     },
     "execution_count": 80,
     "metadata": {},
     "output_type": "execute_result"
    }
   ],
   "source": [
    "seoul_oracle"
   ]
  },
  {
   "cell_type": "code",
   "execution_count": 81,
   "id": "0672fcb5",
   "metadata": {},
   "outputs": [],
   "source": [
    "q_sql = \"\"\"CREATE TABLE Corona19CountStatus(서울시기준일 varchar(50), 서울시확진자 int, 서울시치료중 int,\n",
    "서울시퇴원 varchar(20), 서울시사망 int, 전국확진 int, 전국사망 int)\"\"\""
   ]
  },
  {
   "cell_type": "code",
   "execution_count": 82,
   "id": "48542423",
   "metadata": {},
   "outputs": [
    {
     "data": {
      "text/plain": [
       "()"
      ]
     },
     "execution_count": 82,
     "metadata": {},
     "output_type": "execute_result"
    }
   ],
   "source": [
    "conn = mu.connect_mysql('lol')\n",
    "mu.mysql_execute(q_sql, conn)"
   ]
  },
  {
   "cell_type": "code",
   "execution_count": 83,
   "id": "ee542dfa",
   "metadata": {},
   "outputs": [],
   "source": [
    "conn.close()"
   ]
  },
  {
   "cell_type": "code",
   "execution_count": 88,
   "id": "4ee9b956",
   "metadata": {},
   "outputs": [],
   "source": [
    "def seoul_insert2(df):\n",
    "    conn = mu.connect_mysql('lol')\n",
    "    for i in range(len(df)):\n",
    "        q2 = (\n",
    "        f'insert into Corona19CountStatus(서울시기준일, 서울시확진자, 서울시치료중, 서울시퇴원, 서울시사망, 전국확진, 전국사망)'\n",
    "        f'values({repr(df.서울시기준일.iloc[i])},{df.서울시확진자.iloc[i]},{df.서울시치료중.iloc[i]},'\n",
    "        f'{repr(df.서울시퇴원.iloc[i])},{df.서울시사망.iloc[i]},{df.전국확진.iloc[i]},{df.전국사망.iloc[i]})'\n",
    "        )\n",
    "        mu.mysql_execute(q2,conn)\n",
    "    conn.commit()\n",
    "    conn.close()\n",
    "    return df"
   ]
  },
  {
   "cell_type": "code",
   "execution_count": 89,
   "id": "6b24c764",
   "metadata": {},
   "outputs": [],
   "source": [
    "seoul_sql = seoul_insert2(table2)"
   ]
  },
  {
   "cell_type": "code",
   "execution_count": 90,
   "id": "8e18a84e",
   "metadata": {},
   "outputs": [],
   "source": [
    "seoul_sql_frame = pd.DataFrame(seoul_sql)"
   ]
  },
  {
   "cell_type": "code",
   "execution_count": 91,
   "id": "54e13182",
   "metadata": {},
   "outputs": [
    {
     "data": {
      "text/html": [
       "<div>\n",
       "<style scoped>\n",
       "    .dataframe tbody tr th:only-of-type {\n",
       "        vertical-align: middle;\n",
       "    }\n",
       "\n",
       "    .dataframe tbody tr th {\n",
       "        vertical-align: top;\n",
       "    }\n",
       "\n",
       "    .dataframe thead th {\n",
       "        text-align: right;\n",
       "    }\n",
       "</style>\n",
       "<table border=\"1\" class=\"dataframe\">\n",
       "  <thead>\n",
       "    <tr style=\"text-align: right;\">\n",
       "      <th></th>\n",
       "      <th>서울시기준일</th>\n",
       "      <th>서울시확진자</th>\n",
       "      <th>서울시치료중</th>\n",
       "      <th>서울시퇴원</th>\n",
       "      <th>서울시사망</th>\n",
       "      <th>전국확진</th>\n",
       "      <th>전국사망</th>\n",
       "    </tr>\n",
       "  </thead>\n",
       "  <tbody>\n",
       "    <tr>\n",
       "      <th>0</th>\n",
       "      <td>2023.03.10.00</td>\n",
       "      <td>5944743</td>\n",
       "      <td>0</td>\n",
       "      <td></td>\n",
       "      <td>6359</td>\n",
       "      <td>30615522</td>\n",
       "      <td>34093</td>\n",
       "    </tr>\n",
       "    <tr>\n",
       "      <th>1</th>\n",
       "      <td>2023.03.09.00</td>\n",
       "      <td>5942573</td>\n",
       "      <td>0</td>\n",
       "      <td></td>\n",
       "      <td>6358</td>\n",
       "      <td>30605187</td>\n",
       "      <td>34081</td>\n",
       "    </tr>\n",
       "    <tr>\n",
       "      <th>2</th>\n",
       "      <td>2023.03.08.00</td>\n",
       "      <td>5940442</td>\n",
       "      <td>0</td>\n",
       "      <td></td>\n",
       "      <td>6358</td>\n",
       "      <td>30594297</td>\n",
       "      <td>34061</td>\n",
       "    </tr>\n",
       "    <tr>\n",
       "      <th>3</th>\n",
       "      <td>2023.03.07.00</td>\n",
       "      <td>5937995</td>\n",
       "      <td>0</td>\n",
       "      <td></td>\n",
       "      <td>6358</td>\n",
       "      <td>30581499</td>\n",
       "      <td>34049</td>\n",
       "    </tr>\n",
       "    <tr>\n",
       "      <th>4</th>\n",
       "      <td>2023.03.06.00</td>\n",
       "      <td>5935247</td>\n",
       "      <td>0</td>\n",
       "      <td></td>\n",
       "      <td>6355</td>\n",
       "      <td>30569215</td>\n",
       "      <td>34034</td>\n",
       "    </tr>\n",
       "    <tr>\n",
       "      <th>...</th>\n",
       "      <td>...</td>\n",
       "      <td>...</td>\n",
       "      <td>...</td>\n",
       "      <td>...</td>\n",
       "      <td>...</td>\n",
       "      <td>...</td>\n",
       "      <td>...</td>\n",
       "    </tr>\n",
       "    <tr>\n",
       "      <th>995</th>\n",
       "      <td>2020.06.18.00</td>\n",
       "      <td>1170</td>\n",
       "      <td>446</td>\n",
       "      <td>718</td>\n",
       "      <td>6</td>\n",
       "      <td>12257</td>\n",
       "      <td>280</td>\n",
       "    </tr>\n",
       "    <tr>\n",
       "      <th>996</th>\n",
       "      <td>2020.06.17.00</td>\n",
       "      <td>1145</td>\n",
       "      <td>430</td>\n",
       "      <td>710</td>\n",
       "      <td>5</td>\n",
       "      <td>12198</td>\n",
       "      <td>279</td>\n",
       "    </tr>\n",
       "    <tr>\n",
       "      <th>997</th>\n",
       "      <td>2020.06.16.00</td>\n",
       "      <td>1132</td>\n",
       "      <td>425</td>\n",
       "      <td>703</td>\n",
       "      <td>4</td>\n",
       "      <td>12155</td>\n",
       "      <td>278</td>\n",
       "    </tr>\n",
       "    <tr>\n",
       "      <th>998</th>\n",
       "      <td>2020.06.15.00</td>\n",
       "      <td>1120</td>\n",
       "      <td>427</td>\n",
       "      <td>689</td>\n",
       "      <td>4</td>\n",
       "      <td>12121</td>\n",
       "      <td>277</td>\n",
       "    </tr>\n",
       "    <tr>\n",
       "      <th>999</th>\n",
       "      <td>2020.06.14.00</td>\n",
       "      <td>1113</td>\n",
       "      <td>420</td>\n",
       "      <td>689</td>\n",
       "      <td>4</td>\n",
       "      <td>12085</td>\n",
       "      <td>277</td>\n",
       "    </tr>\n",
       "  </tbody>\n",
       "</table>\n",
       "<p>1000 rows × 7 columns</p>\n",
       "</div>"
      ],
      "text/plain": [
       "            서울시기준일   서울시확진자 서울시치료중 서울시퇴원 서울시사망      전국확진   전국사망\n",
       "0    2023.03.10.00  5944743      0        6359  30615522  34093\n",
       "1    2023.03.09.00  5942573      0        6358  30605187  34081\n",
       "2    2023.03.08.00  5940442      0        6358  30594297  34061\n",
       "3    2023.03.07.00  5937995      0        6358  30581499  34049\n",
       "4    2023.03.06.00  5935247      0        6355  30569215  34034\n",
       "..             ...      ...    ...   ...   ...       ...    ...\n",
       "995  2020.06.18.00     1170    446   718     6     12257    280\n",
       "996  2020.06.17.00     1145    430   710     5     12198    279\n",
       "997  2020.06.16.00     1132    425   703     4     12155    278\n",
       "998  2020.06.15.00     1120    427   689     4     12121    277\n",
       "999  2020.06.14.00     1113    420   689     4     12085    277\n",
       "\n",
       "[1000 rows x 7 columns]"
      ]
     },
     "execution_count": 91,
     "metadata": {},
     "output_type": "execute_result"
    }
   ],
   "source": [
    "seoul_sql_frame"
   ]
  },
  {
   "cell_type": "code",
   "execution_count": 92,
   "id": "8c51954b",
   "metadata": {},
   "outputs": [],
   "source": [
    "seoul_oracle_frmae = pd.DataFrame(seoul_oracle)"
   ]
  },
  {
   "cell_type": "code",
   "execution_count": 93,
   "id": "e0154577",
   "metadata": {},
   "outputs": [
    {
     "data": {
      "text/html": [
       "<div>\n",
       "<style scoped>\n",
       "    .dataframe tbody tr th:only-of-type {\n",
       "        vertical-align: middle;\n",
       "    }\n",
       "\n",
       "    .dataframe tbody tr th {\n",
       "        vertical-align: top;\n",
       "    }\n",
       "\n",
       "    .dataframe thead th {\n",
       "        text-align: right;\n",
       "    }\n",
       "</style>\n",
       "<table border=\"1\" class=\"dataframe\">\n",
       "  <thead>\n",
       "    <tr style=\"text-align: right;\">\n",
       "      <th></th>\n",
       "      <th>서울시기준일</th>\n",
       "      <th>서울시확진자</th>\n",
       "      <th>서울시치료중</th>\n",
       "      <th>서울시퇴원</th>\n",
       "      <th>서울시사망</th>\n",
       "      <th>전국확진</th>\n",
       "      <th>전국사망</th>\n",
       "    </tr>\n",
       "  </thead>\n",
       "  <tbody>\n",
       "    <tr>\n",
       "      <th>0</th>\n",
       "      <td>2023.03.10.00</td>\n",
       "      <td>5944743</td>\n",
       "      <td>0</td>\n",
       "      <td></td>\n",
       "      <td>6359</td>\n",
       "      <td>30615522</td>\n",
       "      <td>34093</td>\n",
       "    </tr>\n",
       "    <tr>\n",
       "      <th>1</th>\n",
       "      <td>2023.03.09.00</td>\n",
       "      <td>5942573</td>\n",
       "      <td>0</td>\n",
       "      <td></td>\n",
       "      <td>6358</td>\n",
       "      <td>30605187</td>\n",
       "      <td>34081</td>\n",
       "    </tr>\n",
       "    <tr>\n",
       "      <th>2</th>\n",
       "      <td>2023.03.08.00</td>\n",
       "      <td>5940442</td>\n",
       "      <td>0</td>\n",
       "      <td></td>\n",
       "      <td>6358</td>\n",
       "      <td>30594297</td>\n",
       "      <td>34061</td>\n",
       "    </tr>\n",
       "    <tr>\n",
       "      <th>3</th>\n",
       "      <td>2023.03.07.00</td>\n",
       "      <td>5937995</td>\n",
       "      <td>0</td>\n",
       "      <td></td>\n",
       "      <td>6358</td>\n",
       "      <td>30581499</td>\n",
       "      <td>34049</td>\n",
       "    </tr>\n",
       "    <tr>\n",
       "      <th>4</th>\n",
       "      <td>2023.03.06.00</td>\n",
       "      <td>5935247</td>\n",
       "      <td>0</td>\n",
       "      <td></td>\n",
       "      <td>6355</td>\n",
       "      <td>30569215</td>\n",
       "      <td>34034</td>\n",
       "    </tr>\n",
       "    <tr>\n",
       "      <th>...</th>\n",
       "      <td>...</td>\n",
       "      <td>...</td>\n",
       "      <td>...</td>\n",
       "      <td>...</td>\n",
       "      <td>...</td>\n",
       "      <td>...</td>\n",
       "      <td>...</td>\n",
       "    </tr>\n",
       "    <tr>\n",
       "      <th>995</th>\n",
       "      <td>2020.06.18.00</td>\n",
       "      <td>1170</td>\n",
       "      <td>446</td>\n",
       "      <td>718</td>\n",
       "      <td>6</td>\n",
       "      <td>12257</td>\n",
       "      <td>280</td>\n",
       "    </tr>\n",
       "    <tr>\n",
       "      <th>996</th>\n",
       "      <td>2020.06.17.00</td>\n",
       "      <td>1145</td>\n",
       "      <td>430</td>\n",
       "      <td>710</td>\n",
       "      <td>5</td>\n",
       "      <td>12198</td>\n",
       "      <td>279</td>\n",
       "    </tr>\n",
       "    <tr>\n",
       "      <th>997</th>\n",
       "      <td>2020.06.16.00</td>\n",
       "      <td>1132</td>\n",
       "      <td>425</td>\n",
       "      <td>703</td>\n",
       "      <td>4</td>\n",
       "      <td>12155</td>\n",
       "      <td>278</td>\n",
       "    </tr>\n",
       "    <tr>\n",
       "      <th>998</th>\n",
       "      <td>2020.06.15.00</td>\n",
       "      <td>1120</td>\n",
       "      <td>427</td>\n",
       "      <td>689</td>\n",
       "      <td>4</td>\n",
       "      <td>12121</td>\n",
       "      <td>277</td>\n",
       "    </tr>\n",
       "    <tr>\n",
       "      <th>999</th>\n",
       "      <td>2020.06.14.00</td>\n",
       "      <td>1113</td>\n",
       "      <td>420</td>\n",
       "      <td>689</td>\n",
       "      <td>4</td>\n",
       "      <td>12085</td>\n",
       "      <td>277</td>\n",
       "    </tr>\n",
       "  </tbody>\n",
       "</table>\n",
       "<p>1000 rows × 7 columns</p>\n",
       "</div>"
      ],
      "text/plain": [
       "            서울시기준일   서울시확진자 서울시치료중 서울시퇴원 서울시사망      전국확진   전국사망\n",
       "0    2023.03.10.00  5944743      0        6359  30615522  34093\n",
       "1    2023.03.09.00  5942573      0        6358  30605187  34081\n",
       "2    2023.03.08.00  5940442      0        6358  30594297  34061\n",
       "3    2023.03.07.00  5937995      0        6358  30581499  34049\n",
       "4    2023.03.06.00  5935247      0        6355  30569215  34034\n",
       "..             ...      ...    ...   ...   ...       ...    ...\n",
       "995  2020.06.18.00     1170    446   718     6     12257    280\n",
       "996  2020.06.17.00     1145    430   710     5     12198    279\n",
       "997  2020.06.16.00     1132    425   703     4     12155    278\n",
       "998  2020.06.15.00     1120    427   689     4     12121    277\n",
       "999  2020.06.14.00     1113    420   689     4     12085    277\n",
       "\n",
       "[1000 rows x 7 columns]"
      ]
     },
     "execution_count": 93,
     "metadata": {},
     "output_type": "execute_result"
    }
   ],
   "source": [
    "seoul_oracle_frmae"
   ]
  }
 ],
 "metadata": {
  "kernelspec": {
   "display_name": "Python 3 (ipykernel)",
   "language": "python",
   "name": "python3"
  },
  "language_info": {
   "codemirror_mode": {
    "name": "ipython",
    "version": 3
   },
   "file_extension": ".py",
   "mimetype": "text/x-python",
   "name": "python",
   "nbconvert_exporter": "python",
   "pygments_lexer": "ipython3",
   "version": "3.9.13"
  }
 },
 "nbformat": 4,
 "nbformat_minor": 5
}
