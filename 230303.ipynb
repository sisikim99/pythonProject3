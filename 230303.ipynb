{
 "cells": [
  {
   "cell_type": "code",
   "execution_count": 1,
   "id": "47fff4b8",
   "metadata": {},
   "outputs": [
    {
     "data": {
      "text/plain": [
       "18502"
      ]
     },
     "execution_count": 1,
     "metadata": {},
     "output_type": "execute_result"
    }
   ],
   "source": [
    "2 * 9251"
   ]
  },
  {
   "cell_type": "code",
   "execution_count": 2,
   "id": "6e7c02dd",
   "metadata": {},
   "outputs": [],
   "source": [
    "a = 'ㅁ'"
   ]
  },
  {
   "cell_type": "code",
   "execution_count": 4,
   "id": "ea946fc5",
   "metadata": {},
   "outputs": [
    {
     "name": "stdout",
     "output_type": "stream",
     "text": [
      "나이 입력 : 25\n"
     ]
    }
   ],
   "source": [
    "age = input('나이 입력 : ')"
   ]
  },
  {
   "cell_type": "code",
   "execution_count": 5,
   "id": "b89e17e8",
   "metadata": {},
   "outputs": [
    {
     "data": {
      "text/plain": [
       "'25'"
      ]
     },
     "execution_count": 5,
     "metadata": {},
     "output_type": "execute_result"
    }
   ],
   "source": [
    "age"
   ]
  },
  {
   "cell_type": "code",
   "execution_count": 7,
   "id": "60ee40b5",
   "metadata": {},
   "outputs": [
    {
     "name": "stdout",
     "output_type": "stream",
     "text": [
      "55\n"
     ]
    }
   ],
   "source": [
    "sum = 0\n",
    "for i in [1,2,3,4,5,6,7,8,9,10]:\n",
    "    sum=sum+i\n",
    "print(sum)"
   ]
  },
  {
   "cell_type": "code",
   "execution_count": 8,
   "id": "33d82377",
   "metadata": {},
   "outputs": [
    {
     "name": "stdout",
     "output_type": "stream",
     "text": [
      "55\n"
     ]
    }
   ],
   "source": [
    "sum = 0\n",
    "for i in range(1,11):\n",
    "    sum = sum + i\n",
    "print(sum)"
   ]
  },
  {
   "cell_type": "code",
   "execution_count": 9,
   "id": "a31395b2",
   "metadata": {},
   "outputs": [],
   "source": [
    "num_list = [1,2,3,4,5,6,7,8,9,10]"
   ]
  },
  {
   "cell_type": "code",
   "execution_count": 14,
   "id": "cebf45d3",
   "metadata": {},
   "outputs": [
    {
     "data": {
      "text/plain": [
       "6"
      ]
     },
     "execution_count": 14,
     "metadata": {},
     "output_type": "execute_result"
    }
   ],
   "source": [
    "num_list[0] * num_list[5]"
   ]
  },
  {
   "cell_type": "code",
   "execution_count": 22,
   "id": "9968afa7",
   "metadata": {},
   "outputs": [
    {
     "data": {
      "text/plain": [
       "[7, 8, 9]"
      ]
     },
     "execution_count": 22,
     "metadata": {},
     "output_type": "execute_result"
    }
   ],
   "source": [
    "num_list[-4:-1]"
   ]
  },
  {
   "cell_type": "code",
   "execution_count": 16,
   "id": "b8fa79bf",
   "metadata": {},
   "outputs": [
    {
     "data": {
      "text/plain": [
       "10"
      ]
     },
     "execution_count": 16,
     "metadata": {},
     "output_type": "execute_result"
    }
   ],
   "source": [
    "len(num_list)"
   ]
  },
  {
   "cell_type": "code",
   "execution_count": 18,
   "id": "1a409ecc",
   "metadata": {},
   "outputs": [
    {
     "data": {
      "text/plain": [
       "[11, 2, 3, 4, 5, 6, 7, 8, 9, 10]"
      ]
     },
     "execution_count": 18,
     "metadata": {},
     "output_type": "execute_result"
    }
   ],
   "source": [
    "num_list[0] = 11\n",
    "num_list"
   ]
  },
  {
   "cell_type": "code",
   "execution_count": 23,
   "id": "825a9673",
   "metadata": {},
   "outputs": [
    {
     "data": {
      "text/plain": [
       "[11, 2, 3, 4, 5, 6, 7, 8, 9, 10, 'plus']"
      ]
     },
     "execution_count": 23,
     "metadata": {},
     "output_type": "execute_result"
    }
   ],
   "source": [
    "num_list.append('plus')\n",
    "num_list"
   ]
  },
  {
   "cell_type": "code",
   "execution_count": 31,
   "id": "4ff7999d",
   "metadata": {},
   "outputs": [
    {
     "data": {
      "text/plain": [
       "[8, 9, 10]"
      ]
     },
     "execution_count": 31,
     "metadata": {},
     "output_type": "execute_result"
    }
   ],
   "source": [
    "num_list[-4:-1]"
   ]
  },
  {
   "cell_type": "code",
   "execution_count": 28,
   "id": "09d7978e",
   "metadata": {},
   "outputs": [
    {
     "data": {
      "text/plain": [
       "[1, 2, 3, 4, 5, 6, 7, 8, 9, 10, 11]"
      ]
     },
     "execution_count": 28,
     "metadata": {},
     "output_type": "execute_result"
    }
   ],
   "source": [
    "numList=[11, 2, 3, 4, 5, 6, 7, 8, 9, 10,1]\n",
    "numList.sort()\n",
    "numList"
   ]
  },
  {
   "cell_type": "code",
   "execution_count": 34,
   "id": "87496b91",
   "metadata": {},
   "outputs": [],
   "source": [
    "korList = ['ㄱ','ㄴ','ㄷ']"
   ]
  },
  {
   "cell_type": "code",
   "execution_count": 41,
   "id": "a416a0ef",
   "metadata": {},
   "outputs": [],
   "source": [
    "korList.insert(2, 'ㄹ')"
   ]
  },
  {
   "cell_type": "code",
   "execution_count": 39,
   "id": "e08c5282",
   "metadata": {},
   "outputs": [],
   "source": [
    "korList.remove('ㄹ')"
   ]
  },
  {
   "cell_type": "code",
   "execution_count": 44,
   "id": "ae95bb3a",
   "metadata": {},
   "outputs": [
    {
     "data": {
      "text/plain": [
       "['ㄱ', 'ㄴ', 'ㄷ', 'ㄹ', 'ㅁ']"
      ]
     },
     "execution_count": 44,
     "metadata": {},
     "output_type": "execute_result"
    }
   ],
   "source": [
    "korList"
   ]
  },
  {
   "cell_type": "code",
   "execution_count": 43,
   "id": "c4adc8c5",
   "metadata": {},
   "outputs": [],
   "source": [
    "korList.sort()"
   ]
  },
  {
   "cell_type": "code",
   "execution_count": 47,
   "id": "f9f45b67",
   "metadata": {},
   "outputs": [
    {
     "data": {
      "text/plain": [
       "'ㄹ'"
      ]
     },
     "execution_count": 47,
     "metadata": {},
     "output_type": "execute_result"
    }
   ],
   "source": [
    "charA = korList.pop(2)\n",
    "charA"
   ]
  },
  {
   "cell_type": "code",
   "execution_count": 48,
   "id": "78abca04",
   "metadata": {},
   "outputs": [
    {
     "data": {
      "text/plain": [
       "['ㄱ', 'ㄴ', 'ㅁ']"
      ]
     },
     "execution_count": 48,
     "metadata": {},
     "output_type": "execute_result"
    }
   ],
   "source": [
    "korList"
   ]
  },
  {
   "cell_type": "code",
   "execution_count": 50,
   "id": "0c6747bf",
   "metadata": {},
   "outputs": [
    {
     "data": {
      "text/plain": [
       "1"
      ]
     },
     "execution_count": 50,
     "metadata": {},
     "output_type": "execute_result"
    }
   ],
   "source": [
    "korList.count('ㄱ')"
   ]
  },
  {
   "cell_type": "code",
   "execution_count": 51,
   "id": "4cf9864a",
   "metadata": {},
   "outputs": [
    {
     "data": {
      "text/plain": [
       "[1, 2, 3, 4, 5]"
      ]
     },
     "execution_count": 51,
     "metadata": {},
     "output_type": "execute_result"
    }
   ],
   "source": [
    "a=[1,2]\n",
    "b=[3,4,5]\n",
    "\n",
    "a+b"
   ]
  },
  {
   "cell_type": "code",
   "execution_count": 52,
   "id": "3651ee54",
   "metadata": {},
   "outputs": [
    {
     "data": {
      "text/plain": [
       "[1, 2, 3, 4, 5]"
      ]
     },
     "execution_count": 52,
     "metadata": {},
     "output_type": "execute_result"
    }
   ],
   "source": [
    "a.extend(b)\n",
    "a"
   ]
  },
  {
   "cell_type": "code",
   "execution_count": 87,
   "id": "35287a7c",
   "metadata": {},
   "outputs": [],
   "source": [
    "threeList = [3 * i for i in range(1,10)]"
   ]
  },
  {
   "cell_type": "code",
   "execution_count": 88,
   "id": "951b1a6d",
   "metadata": {},
   "outputs": [
    {
     "data": {
      "text/plain": [
       "[3, 6, 9, 12, 15, 18, 21, 24, 27]"
      ]
     },
     "execution_count": 88,
     "metadata": {},
     "output_type": "execute_result"
    }
   ],
   "source": [
    "threeList"
   ]
  },
  {
   "cell_type": "code",
   "execution_count": 86,
   "id": "d235d929",
   "metadata": {},
   "outputs": [
    {
     "data": {
      "text/plain": [
       "[[1, 2, 3, 4, 5, 6, 7, 8, 9],\n",
       " [2, 4, 6, 8, 10, 12, 14, 16, 18],\n",
       " [3, 6, 9, 12, 15, 18, 21, 24, 27],\n",
       " [4, 8, 12, 16, 20, 24, 28, 32, 36],\n",
       " [5, 10, 15, 20, 25, 30, 35, 40, 45],\n",
       " [6, 12, 18, 24, 30, 36, 42, 48, 54],\n",
       " [7, 14, 21, 28, 35, 42, 49, 56, 63],\n",
       " [8, 16, 24, 32, 40, 48, 56, 64, 72],\n",
       " [9, 18, 27, 36, 45, 54, 63, 72, 81]]"
      ]
     },
     "execution_count": 86,
     "metadata": {},
     "output_type": "execute_result"
    }
   ],
   "source": [
    "tableList=[];\n",
    "for a in range(1,10):\n",
    "    threeList=[];\n",
    "    for i in range(1,10):\n",
    "        threeList.append(a * i);\n",
    "    tableList.append(threeList);\n",
    "tableList"
   ]
  },
  {
   "cell_type": "markdown",
   "id": "3650e831",
   "metadata": {},
   "source": [
    "# 튜플(tuple)"
   ]
  },
  {
   "cell_type": "code",
   "execution_count": 92,
   "id": "5d767359",
   "metadata": {},
   "outputs": [],
   "source": [
    "a =  (1,2,3,4)\n",
    "b = (5,6)"
   ]
  },
  {
   "cell_type": "code",
   "execution_count": 93,
   "id": "92c25262",
   "metadata": {},
   "outputs": [
    {
     "data": {
      "text/plain": [
       "(2, 3)"
      ]
     },
     "execution_count": 93,
     "metadata": {},
     "output_type": "execute_result"
    }
   ],
   "source": [
    "a[1:3]"
   ]
  },
  {
   "cell_type": "code",
   "execution_count": 94,
   "id": "18b8b0ce",
   "metadata": {},
   "outputs": [
    {
     "data": {
      "text/plain": [
       "(1, 2, 3, 4, 5, 6)"
      ]
     },
     "execution_count": 94,
     "metadata": {},
     "output_type": "execute_result"
    }
   ],
   "source": [
    "a+ b"
   ]
  },
  {
   "cell_type": "code",
   "execution_count": 95,
   "id": "f4edb021",
   "metadata": {},
   "outputs": [
    {
     "data": {
      "text/plain": [
       "(1, 2, 3, 4, 1, 2, 3, 4, 1, 2, 3, 4)"
      ]
     },
     "execution_count": 95,
     "metadata": {},
     "output_type": "execute_result"
    }
   ],
   "source": [
    "a * 3"
   ]
  },
  {
   "cell_type": "code",
   "execution_count": 96,
   "id": "84f32d08",
   "metadata": {},
   "outputs": [
    {
     "data": {
      "text/plain": [
       "4"
      ]
     },
     "execution_count": 96,
     "metadata": {},
     "output_type": "execute_result"
    }
   ],
   "source": [
    "len(a)"
   ]
  },
  {
   "cell_type": "markdown",
   "id": "7cd49dab",
   "metadata": {},
   "source": [
    "# 집합(set)"
   ]
  },
  {
   "cell_type": "code",
   "execution_count": 100,
   "id": "3c338ccb",
   "metadata": {},
   "outputs": [],
   "source": [
    "a = {1,2,3,4,5,6,7,8,9}\n",
    "b = {5,7,9,14}\n",
    "c = set([1,25.54,5,5,5,5,5,5,5,5,5,5,5])"
   ]
  },
  {
   "cell_type": "code",
   "execution_count": 101,
   "id": "0cdfb2dc",
   "metadata": {},
   "outputs": [
    {
     "data": {
      "text/plain": [
       "{1, 5, 25.54}"
      ]
     },
     "execution_count": 101,
     "metadata": {},
     "output_type": "execute_result"
    }
   ],
   "source": [
    "c"
   ]
  },
  {
   "cell_type": "code",
   "execution_count": 104,
   "id": "1cb02a7d",
   "metadata": {},
   "outputs": [
    {
     "data": {
      "text/plain": [
       "{5, 7, 9}"
      ]
     },
     "execution_count": 104,
     "metadata": {},
     "output_type": "execute_result"
    }
   ],
   "source": [
    "a & b"
   ]
  },
  {
   "cell_type": "code",
   "execution_count": 105,
   "id": "d8383a2d",
   "metadata": {},
   "outputs": [
    {
     "data": {
      "text/plain": [
       "{5, 7, 9}"
      ]
     },
     "execution_count": 105,
     "metadata": {},
     "output_type": "execute_result"
    }
   ],
   "source": [
    "a.intersection(b)"
   ]
  },
  {
   "cell_type": "code",
   "execution_count": 106,
   "id": "44f38285",
   "metadata": {},
   "outputs": [
    {
     "data": {
      "text/plain": [
       "{1, 2, 3, 4, 5, 6, 7, 8, 9, 14}"
      ]
     },
     "execution_count": 106,
     "metadata": {},
     "output_type": "execute_result"
    }
   ],
   "source": [
    "a | b"
   ]
  },
  {
   "cell_type": "code",
   "execution_count": 107,
   "id": "c3d4fb9f",
   "metadata": {},
   "outputs": [
    {
     "data": {
      "text/plain": [
       "{1, 2, 3, 4, 5, 6, 7, 8, 9, 14}"
      ]
     },
     "execution_count": 107,
     "metadata": {},
     "output_type": "execute_result"
    }
   ],
   "source": [
    "a.union(b)"
   ]
  },
  {
   "cell_type": "code",
   "execution_count": 108,
   "id": "6a7cd13f",
   "metadata": {},
   "outputs": [
    {
     "data": {
      "text/plain": [
       "{1, 2, 3, 4, 6, 8}"
      ]
     },
     "execution_count": 108,
     "metadata": {},
     "output_type": "execute_result"
    }
   ],
   "source": [
    "a - b"
   ]
  },
  {
   "cell_type": "code",
   "execution_count": 109,
   "id": "fb5df392",
   "metadata": {},
   "outputs": [
    {
     "data": {
      "text/plain": [
       "{14}"
      ]
     },
     "execution_count": 109,
     "metadata": {},
     "output_type": "execute_result"
    }
   ],
   "source": [
    "b - a"
   ]
  },
  {
   "cell_type": "code",
   "execution_count": 110,
   "id": "c27eddbb",
   "metadata": {},
   "outputs": [
    {
     "data": {
      "text/plain": [
       "[1, 5, 25.54]"
      ]
     },
     "execution_count": 110,
     "metadata": {},
     "output_type": "execute_result"
    }
   ],
   "source": [
    "list(c)"
   ]
  },
  {
   "cell_type": "markdown",
   "id": "85211af3",
   "metadata": {},
   "source": [
    "# 딕셔너리(Dictionary)\n",
    "\n",
    " (key : value)"
   ]
  },
  {
   "cell_type": "code",
   "execution_count": 114,
   "id": "4a6e154c",
   "metadata": {},
   "outputs": [],
   "source": [
    "a = {'이름' : '김시현','직장' : '무직'}"
   ]
  },
  {
   "cell_type": "code",
   "execution_count": 115,
   "id": "f531cc8f",
   "metadata": {},
   "outputs": [],
   "source": [
    "a['사는곳']='인천'"
   ]
  },
  {
   "cell_type": "code",
   "execution_count": 116,
   "id": "e138ce4e",
   "metadata": {},
   "outputs": [
    {
     "data": {
      "text/plain": [
       "{'이름': '김시현', '직장': '무직', '사는곳': '인천'}"
      ]
     },
     "execution_count": 116,
     "metadata": {},
     "output_type": "execute_result"
    }
   ],
   "source": [
    "a"
   ]
  },
  {
   "cell_type": "code",
   "execution_count": 117,
   "id": "40a69087",
   "metadata": {},
   "outputs": [],
   "source": [
    "a['좋아하는 음식'] = ['피자','치킨','마라탕']"
   ]
  },
  {
   "cell_type": "code",
   "execution_count": 118,
   "id": "85bc4af5",
   "metadata": {},
   "outputs": [
    {
     "data": {
      "text/plain": [
       "{'이름': '김시현', '직장': '무직', '사는곳': '인천', '좋아하는 음식': ['피자', '치킨', '마라탕']}"
      ]
     },
     "execution_count": 118,
     "metadata": {},
     "output_type": "execute_result"
    }
   ],
   "source": [
    "a"
   ]
  },
  {
   "cell_type": "code",
   "execution_count": 119,
   "id": "1d75573a",
   "metadata": {},
   "outputs": [],
   "source": [
    "del a['좋아하는 음식']"
   ]
  },
  {
   "cell_type": "code",
   "execution_count": 120,
   "id": "7268e27c",
   "metadata": {},
   "outputs": [
    {
     "data": {
      "text/plain": [
       "{'이름': '김시현', '직장': '무직', '사는곳': '인천'}"
      ]
     },
     "execution_count": 120,
     "metadata": {},
     "output_type": "execute_result"
    }
   ],
   "source": [
    "a"
   ]
  },
  {
   "cell_type": "code",
   "execution_count": 121,
   "id": "766dfa4f",
   "metadata": {},
   "outputs": [
    {
     "data": {
      "text/plain": [
       "'김시현'"
      ]
     },
     "execution_count": 121,
     "metadata": {},
     "output_type": "execute_result"
    }
   ],
   "source": [
    "a['이름']"
   ]
  },
  {
   "cell_type": "code",
   "execution_count": 122,
   "id": "a4343b2a",
   "metadata": {},
   "outputs": [
    {
     "data": {
      "text/plain": [
       "'김시현'"
      ]
     },
     "execution_count": 122,
     "metadata": {},
     "output_type": "execute_result"
    }
   ],
   "source": [
    "a.get('이름')"
   ]
  },
  {
   "cell_type": "code",
   "execution_count": 123,
   "id": "387f1e3a",
   "metadata": {},
   "outputs": [],
   "source": [
    "a['이름']='오건오'"
   ]
  },
  {
   "cell_type": "code",
   "execution_count": 124,
   "id": "e8b924ad",
   "metadata": {},
   "outputs": [
    {
     "data": {
      "text/plain": [
       "{'이름': '오건오', '직장': '무직', '사는곳': '인천'}"
      ]
     },
     "execution_count": 124,
     "metadata": {},
     "output_type": "execute_result"
    }
   ],
   "source": [
    "a"
   ]
  },
  {
   "cell_type": "code",
   "execution_count": 125,
   "id": "4f857208",
   "metadata": {},
   "outputs": [
    {
     "data": {
      "text/plain": [
       "dict_keys(['이름', '직장', '사는곳'])"
      ]
     },
     "execution_count": 125,
     "metadata": {},
     "output_type": "execute_result"
    }
   ],
   "source": [
    "a.keys()"
   ]
  },
  {
   "cell_type": "code",
   "execution_count": 126,
   "id": "12682948",
   "metadata": {},
   "outputs": [
    {
     "data": {
      "text/plain": [
       "dict_values(['오건오', '무직', '인천'])"
      ]
     },
     "execution_count": 126,
     "metadata": {},
     "output_type": "execute_result"
    }
   ],
   "source": [
    "a.values()"
   ]
  },
  {
   "cell_type": "code",
   "execution_count": 127,
   "id": "c4eb4db0",
   "metadata": {},
   "outputs": [
    {
     "data": {
      "text/plain": [
       "dict_items([('이름', '오건오'), ('직장', '무직'), ('사는곳', '인천')])"
      ]
     },
     "execution_count": 127,
     "metadata": {},
     "output_type": "execute_result"
    }
   ],
   "source": [
    "a.items()"
   ]
  },
  {
   "cell_type": "code",
   "execution_count": 128,
   "id": "da45bbf9",
   "metadata": {},
   "outputs": [],
   "source": [
    "a.clear()"
   ]
  },
  {
   "cell_type": "code",
   "execution_count": 129,
   "id": "9a59f8db",
   "metadata": {},
   "outputs": [
    {
     "data": {
      "text/plain": [
       "{}"
      ]
     },
     "execution_count": 129,
     "metadata": {},
     "output_type": "execute_result"
    }
   ],
   "source": [
    "a"
   ]
  },
  {
   "cell_type": "code",
   "execution_count": 130,
   "id": "6da2092e",
   "metadata": {},
   "outputs": [
    {
     "data": {
      "text/plain": [
       "False"
      ]
     },
     "execution_count": 130,
     "metadata": {},
     "output_type": "execute_result"
    }
   ],
   "source": [
    "'이름' in a"
   ]
  },
  {
   "cell_type": "code",
   "execution_count": 131,
   "id": "bfa41f57",
   "metadata": {},
   "outputs": [],
   "source": [
    "icecream = ['서주아이스바','아맛나','바밤바','비비빅']"
   ]
  },
  {
   "cell_type": "markdown",
   "id": "e7286179",
   "metadata": {},
   "source": [
    "# for문을 사용해서 딕셔너리를 만들 것\n",
    "# {1 : 서주아이스바, 2 : 아맛나, 3 : 바밤바, 4 : 비비빅}"
   ]
  },
  {
   "cell_type": "code",
   "execution_count": 145,
   "id": "a6988aa2",
   "metadata": {},
   "outputs": [
    {
     "data": {
      "text/plain": [
       "{1: '서주아이스바', 2: '아맛나', 3: '바밤바', 4: '비비빅'}"
      ]
     },
     "execution_count": 145,
     "metadata": {},
     "output_type": "execute_result"
    }
   ],
   "source": [
    "dictionary = {}\n",
    "a = 1\n",
    "for i in range(len(icecream)):\n",
    "    dictionary[a] = icecream[i]\n",
    "    a = a +1\n",
    "dictionary"
   ]
  },
  {
   "cell_type": "code",
   "execution_count": 142,
   "id": "0bb61322",
   "metadata": {},
   "outputs": [
    {
     "data": {
      "text/plain": [
       "dict_items([(1, '서주아이스바'), (2, '아맛나'), (3, '바밤바'), (4, '비비빅')])"
      ]
     },
     "execution_count": 142,
     "metadata": {},
     "output_type": "execute_result"
    }
   ],
   "source": [
    "dictionary.items()"
   ]
  },
  {
   "cell_type": "code",
   "execution_count": 146,
   "id": "bfe473f3",
   "metadata": {},
   "outputs": [
    {
     "data": {
      "text/plain": [
       "{0: '서주아이스바', 1: '아맛나', 2: '바밤바', 3: '비비빅'}"
      ]
     },
     "execution_count": 146,
     "metadata": {},
     "output_type": "execute_result"
    }
   ],
   "source": [
    "{i:icecream[i] for i in range(len(icecream))}"
   ]
  },
  {
   "cell_type": "code",
   "execution_count": 150,
   "id": "fb52dfb3",
   "metadata": {},
   "outputs": [
    {
     "name": "stdout",
     "output_type": "stream",
     "text": [
      "1000\n"
     ]
    }
   ],
   "source": [
    "a = 1000\n",
    "\n",
    "if a == 1000:\n",
    "    print(a)\n",
    "elif a == 800:\n",
    "    print('a = 800')\n",
    "else :\n",
    "    print('nothing')"
   ]
  },
  {
   "cell_type": "code",
   "execution_count": 153,
   "id": "d76f0455",
   "metadata": {},
   "outputs": [
    {
     "data": {
      "text/plain": [
       "True"
      ]
     },
     "execution_count": 153,
     "metadata": {},
     "output_type": "execute_result"
    }
   ],
   "source": [
    "a != 800"
   ]
  },
  {
   "cell_type": "code",
   "execution_count": 154,
   "id": "b19f273e",
   "metadata": {},
   "outputs": [
    {
     "name": "stdout",
     "output_type": "stream",
     "text": [
      "돈이 없다\n"
     ]
    }
   ],
   "source": [
    "money = None\n",
    "if not money:\n",
    "    print('돈이 없다')\n",
    "else:\n",
    "    print('돈이 있다')"
   ]
  },
  {
   "cell_type": "code",
   "execution_count": 157,
   "id": "7fe29a7c",
   "metadata": {},
   "outputs": [
    {
     "name": "stdout",
     "output_type": "stream",
     "text": [
      "숫자 있음\n"
     ]
    }
   ],
   "source": [
    "moneyList = [100,20,300]\n",
    "if 100 in moneyList:\n",
    "    print('숫자 있음')\n",
    "else:\n",
    "    print('숫자 없음')"
   ]
  },
  {
   "cell_type": "code",
   "execution_count": 160,
   "id": "e2c7155d",
   "metadata": {},
   "outputs": [
    {
     "name": "stdout",
     "output_type": "stream",
     "text": [
      "True\n"
     ]
    }
   ],
   "source": [
    "numList = [100,200,300]\n",
    "\n",
    "if 100 in numList or 2000 in numList:\n",
    "    print(True)\n",
    "else:\n",
    "    print(False)"
   ]
  },
  {
   "cell_type": "code",
   "execution_count": 161,
   "id": "58ba3487",
   "metadata": {},
   "outputs": [],
   "source": [
    "#if문, input함수 사용해서 받은 점수가 100점일 경우 A, 90~99 B, 80~89 C, 79이라 F"
   ]
  },
  {
   "cell_type": "code",
   "execution_count": 168,
   "id": "8810187b",
   "metadata": {},
   "outputs": [
    {
     "name": "stdout",
     "output_type": "stream",
     "text": [
      "점수입력 : 75\n",
      "D학점 입니다\n"
     ]
    }
   ],
   "source": [
    "a = int(input('점수입력 : '))\n",
    "ifa == 100:\n",
    "    print('A학점 입니다')\n",
    "elif a>=90 and a<100:\n",
    "    print('B학점 입니다')\n",
    "elif a>=80 and a<90:\n",
    "    print('C학점 입니다')\n",
    "elif a>=70 and a<8):\n",
    "    print('D학점 입니다')\n",
    "else:\n",
    "    print('F학점 입니다')"
   ]
  }
 ],
 "metadata": {
  "kernelspec": {
   "display_name": "Python 3 (ipykernel)",
   "language": "python",
   "name": "python3"
  },
  "language_info": {
   "codemirror_mode": {
    "name": "ipython",
    "version": 3
   },
   "file_extension": ".py",
   "mimetype": "text/x-python",
   "name": "python",
   "nbconvert_exporter": "python",
   "pygments_lexer": "ipython3",
   "version": "3.9.13"
  }
 },
 "nbformat": 4,
 "nbformat_minor": 5
}
